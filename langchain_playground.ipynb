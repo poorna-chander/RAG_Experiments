{
 "cells": [
  {
   "cell_type": "code",
   "execution_count": 33,
   "metadata": {},
   "outputs": [],
   "source": [
    "from langchain.llms import OpenAI\n",
    "from langchain.chat_models import ChatOpenAI\n",
    "from langchain.schema import HumanMessage\n",
    "from langchain.prompts import PromptTemplate"
   ]
  },
  {
   "cell_type": "code",
   "execution_count": 42,
   "metadata": {},
   "outputs": [],
   "source": [
    "api_key = \"-\""
   ]
  },
  {
   "cell_type": "code",
   "execution_count": 38,
   "metadata": {},
   "outputs": [],
   "source": [
    "llm = OpenAI(api_key=api_key)\n",
    "chat_model = ChatOpenAI(api_key=api_key)"
   ]
  },
  {
   "cell_type": "code",
   "execution_count": 39,
   "metadata": {},
   "outputs": [],
   "source": [
    "text = \"what is a RAG?\"\n",
    "messages = [HumanMessage(content=text)]"
   ]
  },
  {
   "cell_type": "code",
   "execution_count": 40,
   "metadata": {},
   "outputs": [
    {
     "data": {
      "text/plain": [
       "'\\n\\nRAG stands for Red, Amber, Green. It is a color-coded system used to indicate the status of a project, task, or issue. The colors represent different levels of progress or urgency: \\n\\n- Red: indicates a critical issue or significant delay that requires immediate attention \\n- Amber: indicates a potential issue or delay that needs to be monitored closely \\n- Green: indicates that everything is on track and progressing smoothly. \\n\\nThe RAG system is commonly used in project management, risk assessment, and performance reporting to quickly communicate the status of various tasks or projects. '"
      ]
     },
     "execution_count": 40,
     "metadata": {},
     "output_type": "execute_result"
    }
   ],
   "source": [
    "llm.invoke(text)"
   ]
  },
  {
   "cell_type": "code",
   "execution_count": 20,
   "metadata": {},
   "outputs": [
    {
     "data": {
      "text/plain": [
       "AIMessage(content='RAG stands for Red, Amber, Green. It is a visual status reporting system used in project management and other contexts to indicate the progress or status of a particular task or project. \\n\\n- Red typically indicates a critical or high-risk situation, where the task or project is behind schedule, over budget, or facing significant issues.\\n- Amber (or Yellow) usually signifies a cautionary situation, where there may be some concerns or delays, but they are not as severe as the red status.\\n- Green indicates a good or satisfactory status, where the task or project is on track, within budget, and progressing smoothly.\\n\\nThe RAG system helps stakeholders and team members quickly understand the current status and take appropriate actions based on the color-coded indicators.')"
      ]
     },
     "execution_count": 20,
     "metadata": {},
     "output_type": "execute_result"
    }
   ],
   "source": [
    "chat_model.invoke(messages)"
   ]
  },
  {
   "cell_type": "code",
   "execution_count": 41,
   "metadata": {},
   "outputs": [
    {
     "data": {
      "text/plain": [
       "'\\n\\nRAG (Retrieval Augmented Generation) is a natural language processing (NLP) technique that combines retrieval-based and generation-based methods to improve the quality of generated text. It involves retrieving relevant information from a large database or knowledge graph and using it to guide the generation of new text, resulting in more coherent and informative text output. RAG is often used in question-answering systems and chatbots, where the retrieved information can be used to provide more accurate and relevant responses to user queries. This technique has shown promising results in various NLP tasks, such as text summarization, dialogue generation, and open-domain question answering. '"
      ]
     },
     "execution_count": 41,
     "metadata": {},
     "output_type": "execute_result"
    }
   ],
   "source": [
    "prompt = PromptTemplate.from_template(\"What is RAG ({abbr})?\")\n",
    "text = prompt.format(abbr=\"Retrieval Augmented Generation\")\n",
    "llm.invoke(text)"
   ]
  },
  {
   "cell_type": "code",
   "execution_count": null,
   "metadata": {},
   "outputs": [],
   "source": []
  }
 ],
 "metadata": {
  "kernelspec": {
   "display_name": "rag_langchain",
   "language": "python",
   "name": "python3"
  },
  "language_info": {
   "codemirror_mode": {
    "name": "ipython",
    "version": 3
   },
   "file_extension": ".py",
   "mimetype": "text/x-python",
   "name": "python",
   "nbconvert_exporter": "python",
   "pygments_lexer": "ipython3",
   "version": "3.10.13"
  }
 },
 "nbformat": 4,
 "nbformat_minor": 2
}
